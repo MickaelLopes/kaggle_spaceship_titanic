{
 "cells": [
  {
   "cell_type": "code",
   "execution_count": 1,
   "metadata": {},
   "outputs": [],
   "source": [
    "import logging\n",
    "from splunk_hec_handler import SplunkHecHandler"
   ]
  },
  {
   "cell_type": "code",
   "execution_count": 2,
   "metadata": {},
   "outputs": [],
   "source": [
    "logger = logging.getLogger('SplunkHecHandlerExample')\n",
    "logger.setLevel(logging.DEBUG)\n",
    "\n",
    "# If using self-signed certificate, set ssl_verify to False\n",
    "# If using http, set proto to http\n",
    "splunk_handler = SplunkHecHandler('prd-p-z3lcn.splunkcloud.com',\n",
    "                    'bb2a82c8-5edf-46ef-8771-f173ab2ad94a',\n",
    "                    port=8088, proto='https', ssl_verify=False,\n",
    "                    source=\"http:test_python\")\n",
    "logger.addHandler(splunk_handler)"
   ]
  },
  {
   "cell_type": "code",
   "execution_count": 4,
   "metadata": {},
   "outputs": [
    {
     "name": "stderr",
     "output_type": "stream",
     "text": [
      "c:\\Users\\lopes\\anaconda3\\envs\\butn_DW\\lib\\site-packages\\urllib3\\connectionpool.py:1045: InsecureRequestWarning: Unverified HTTPS request is being made to host 'prd-p-z3lcn.splunkcloud.com'. Adding certificate verification is strongly advised. See: https://urllib3.readthedocs.io/en/1.26.x/advanced-usage.html#ssl-warnings\n",
      "  warnings.warn(\n",
      "INFO:SplunkHecHandlerExample:Test of Splunk HEC on python 111\n",
      "c:\\Users\\lopes\\anaconda3\\envs\\butn_DW\\lib\\site-packages\\urllib3\\connectionpool.py:1045: InsecureRequestWarning: Unverified HTTPS request is being made to host 'prd-p-z3lcn.splunkcloud.com'. Adding certificate verification is strongly advised. See: https://urllib3.readthedocs.io/en/1.26.x/advanced-usage.html#ssl-warnings\n",
      "  warnings.warn(\n",
      "INFO:SplunkHecHandlerExample:{'color': 'red'}\n"
     ]
    }
   ],
   "source": [
    "logger.info(\"Test of Splunk HEC on python 111\")\n",
    "dict = {\"color\": \"red\"}\n",
    "logger.info(dict)"
   ]
  },
  {
   "cell_type": "code",
   "execution_count": 8,
   "metadata": {},
   "outputs": [
    {
     "data": {
      "text/plain": [
       "dict"
      ]
     },
     "execution_count": 8,
     "metadata": {},
     "output_type": "execute_result"
    }
   ],
   "source": [
    "type(dict)"
   ]
  },
  {
   "cell_type": "markdown",
   "metadata": {},
   "source": []
  },
  {
   "cell_type": "code",
   "execution_count": 13,
   "metadata": {},
   "outputs": [
    {
     "name": "stderr",
     "output_type": "stream",
     "text": [
      "c:\\Users\\lopes\\anaconda3\\envs\\butn_DW\\lib\\site-packages\\urllib3\\connectionpool.py:1045: InsecureRequestWarning: Unverified HTTPS request is being made to host 'prd-p-z3lcn.splunkcloud.com'. Adding certificate verification is strongly advised. See: https://urllib3.readthedocs.io/en/1.26.x/advanced-usage.html#ssl-warnings\n",
      "  warnings.warn(\n",
      "INFO:SplunkHecHandlerExample:{'fields': {'color': 'yellow', 'api_endpoint': '/results'}, 'user': 'foobar', 'app': 'my demo', 'severity': 'low', 'error codes': [1, 23, 34, 456]}\n"
     ]
    }
   ],
   "source": [
    "dict_obj = {'fields': {'color': 'yellow', 'api_endpoint': '/results'},'user': 'foobar', 'app': 'my demo', 'severity': 'low', 'error codes': [1, 23, 34, 456]}\n",
    "\n",
    "logger.info(dict_obj)"
   ]
  },
  {
   "cell_type": "code",
   "execution_count": 18,
   "metadata": {},
   "outputs": [
    {
     "name": "stderr",
     "output_type": "stream",
     "text": [
      "c:\\Users\\lopes\\anaconda3\\envs\\butn_DW\\lib\\site-packages\\urllib3\\connectionpool.py:1045: InsecureRequestWarning: Unverified HTTPS request is being made to host 'prd-p-z3lcn.splunkcloud.com'. Adding certificate verification is strongly advised. See: https://urllib3.readthedocs.io/en/1.26.x/advanced-usage.html#ssl-warnings\n",
      "  warnings.warn(\n",
      "Hello World\n",
      "c:\\Users\\lopes\\anaconda3\\envs\\butn_DW\\lib\\site-packages\\urllib3\\connectionpool.py:1045: InsecureRequestWarning: Unverified HTTPS request is being made to host 'prd-p-z3lcn.splunkcloud.com'. Adding certificate verification is strongly advised. See: https://urllib3.readthedocs.io/en/1.26.x/advanced-usage.html#ssl-warnings\n",
      "  warnings.warn(\n",
      "Hello World\n",
      "c:\\Users\\lopes\\anaconda3\\envs\\butn_DW\\lib\\site-packages\\urllib3\\connectionpool.py:1045: InsecureRequestWarning: Unverified HTTPS request is being made to host 'prd-p-z3lcn.splunkcloud.com'. Adding certificate verification is strongly advised. See: https://urllib3.readthedocs.io/en/1.26.x/advanced-usage.html#ssl-warnings\n",
      "  warnings.warn(\n",
      "Hello World\n",
      "c:\\Users\\lopes\\anaconda3\\envs\\butn_DW\\lib\\site-packages\\urllib3\\connectionpool.py:1045: InsecureRequestWarning: Unverified HTTPS request is being made to host 'prd-p-z3lcn.splunkcloud.com'. Adding certificate verification is strongly advised. See: https://urllib3.readthedocs.io/en/1.26.x/advanced-usage.html#ssl-warnings\n",
      "  warnings.warn(\n",
      "Hello World\n",
      "c:\\Users\\lopes\\anaconda3\\envs\\butn_DW\\lib\\site-packages\\urllib3\\connectionpool.py:1045: InsecureRequestWarning: Unverified HTTPS request is being made to host 'prd-p-z3lcn.splunkcloud.com'. Adding certificate verification is strongly advised. See: https://urllib3.readthedocs.io/en/1.26.x/advanced-usage.html#ssl-warnings\n",
      "  warnings.warn(\n",
      "INFO:SplunkHecHandlerExample:Hello World\n",
      "c:\\Users\\lopes\\anaconda3\\envs\\butn_DW\\lib\\site-packages\\urllib3\\connectionpool.py:1045: InsecureRequestWarning: Unverified HTTPS request is being made to host 'prd-p-z3lcn.splunkcloud.com'. Adding certificate verification is strongly advised. See: https://urllib3.readthedocs.io/en/1.26.x/advanced-usage.html#ssl-warnings\n",
      "  warnings.warn(\n"
     ]
    },
    {
     "ename": "HTTPError",
     "evalue": "400 Client Error: Bad Request for url: https://prd-p-z3lcn.splunkcloud.com:8088/services/collector/event",
     "output_type": "error",
     "traceback": [
      "\u001b[1;31m---------------------------------------------------------------------------\u001b[0m",
      "\u001b[1;31mHTTPError\u001b[0m                                 Traceback (most recent call last)",
      "\u001b[1;32mc:\\Users\\lopes\\Projects\\Kaggle\\Spaceship_Titanic\\src\\test.ipynb Cell 6\u001b[0m in \u001b[0;36m<cell line: 22>\u001b[1;34m()\u001b[0m\n\u001b[0;32m     <a href='vscode-notebook-cell:/c%3A/Users/lopes/Projects/Kaggle/Spaceship_Titanic/src/test.ipynb#W5sZmlsZQ%3D%3D?line=18'>19</a>\u001b[0m dict_obj \u001b[39m=\u001b[39m {\u001b[39m'\u001b[39m\u001b[39mfields\u001b[39m\u001b[39m'\u001b[39m: {\u001b[39m'\u001b[39m\u001b[39mcolor\u001b[39m\u001b[39m'\u001b[39m: \u001b[39m'\u001b[39m\u001b[39myellow\u001b[39m\u001b[39m'\u001b[39m, \u001b[39m'\u001b[39m\u001b[39mapi_endpoint\u001b[39m\u001b[39m'\u001b[39m: \u001b[39m'\u001b[39m\u001b[39m/results\u001b[39m\u001b[39m'\u001b[39m, \u001b[39m'\u001b[39m\u001b[39mhost\u001b[39m\u001b[39m'\u001b[39m: \u001b[39m'\u001b[39m\u001b[39mapp01\u001b[39m\u001b[39m'\u001b[39m, \u001b[39m'\u001b[39m\u001b[39mindex\u001b[39m\u001b[39m'\u001b[39m:\u001b[39m'\u001b[39m\u001b[39mhec\u001b[39m\u001b[39m'\u001b[39m},\n\u001b[0;32m     <a href='vscode-notebook-cell:/c%3A/Users/lopes/Projects/Kaggle/Spaceship_Titanic/src/test.ipynb#W5sZmlsZQ%3D%3D?line=19'>20</a>\u001b[0m             \u001b[39m'\u001b[39m\u001b[39muser\u001b[39m\u001b[39m'\u001b[39m: \u001b[39m'\u001b[39m\u001b[39mfoobar\u001b[39m\u001b[39m'\u001b[39m, \u001b[39m'\u001b[39m\u001b[39mapp\u001b[39m\u001b[39m'\u001b[39m: \u001b[39m'\u001b[39m\u001b[39mmy demo\u001b[39m\u001b[39m'\u001b[39m, \u001b[39m'\u001b[39m\u001b[39mseverity\u001b[39m\u001b[39m'\u001b[39m: \u001b[39m'\u001b[39m\u001b[39mlow\u001b[39m\u001b[39m'\u001b[39m, \u001b[39m'\u001b[39m\u001b[39merror codes\u001b[39m\u001b[39m'\u001b[39m: [\u001b[39m1\u001b[39m, \u001b[39m23\u001b[39m, \u001b[39m34\u001b[39m, \u001b[39m456\u001b[39m]}\n\u001b[0;32m     <a href='vscode-notebook-cell:/c%3A/Users/lopes/Projects/Kaggle/Spaceship_Titanic/src/test.ipynb#W5sZmlsZQ%3D%3D?line=20'>21</a>\u001b[0m logger\u001b[39m.\u001b[39minfo(\u001b[39m\"\u001b[39m\u001b[39mHello World\u001b[39m\u001b[39m\"\u001b[39m)\n\u001b[1;32m---> <a href='vscode-notebook-cell:/c%3A/Users/lopes/Projects/Kaggle/Spaceship_Titanic/src/test.ipynb#W5sZmlsZQ%3D%3D?line=21'>22</a>\u001b[0m logger\u001b[39m.\u001b[39;49minfo(dict_obj)\n\u001b[0;32m     <a href='vscode-notebook-cell:/c%3A/Users/lopes/Projects/Kaggle/Spaceship_Titanic/src/test.ipynb#W5sZmlsZQ%3D%3D?line=23'>24</a>\u001b[0m log_summary_evt \u001b[39m=\u001b[39m {\u001b[39m'\u001b[39m\u001b[39mfields\u001b[39m\u001b[39m'\u001b[39m: {\u001b[39m'\u001b[39m\u001b[39mindex\u001b[39m\u001b[39m'\u001b[39m: \u001b[39m'\u001b[39m\u001b[39madhoc\u001b[39m\u001b[39m'\u001b[39m, \u001b[39m'\u001b[39m\u001b[39msourcetype\u001b[39m\u001b[39m'\u001b[39m: \u001b[39m'\u001b[39m\u001b[39m_json\u001b[39m\u001b[39m'\u001b[39m, \u001b[39m'\u001b[39m\u001b[39msource\u001b[39m\u001b[39m'\u001b[39m: \u001b[39m'\u001b[39m\u001b[39madv_example\u001b[39m\u001b[39m'\u001b[39m}, \u001b[39m'\u001b[39m\u001b[39mexit code\u001b[39m\u001b[39m'\u001b[39m: \u001b[39m0\u001b[39m, \u001b[39m'\u001b[39m\u001b[39mevents logged\u001b[39m\u001b[39m'\u001b[39m: \u001b[39m100\u001b[39m}\n\u001b[0;32m     <a href='vscode-notebook-cell:/c%3A/Users/lopes/Projects/Kaggle/Spaceship_Titanic/src/test.ipynb#W5sZmlsZQ%3D%3D?line=24'>25</a>\u001b[0m logger\u001b[39m.\u001b[39mdebug(log_summary_evt)\n",
      "File \u001b[1;32mc:\\Users\\lopes\\anaconda3\\envs\\butn_DW\\lib\\logging\\__init__.py:1446\u001b[0m, in \u001b[0;36mLogger.info\u001b[1;34m(self, msg, *args, **kwargs)\u001b[0m\n\u001b[0;32m   1437\u001b[0m \u001b[39m\"\"\"\u001b[39;00m\n\u001b[0;32m   1438\u001b[0m \u001b[39mLog 'msg % args' with severity 'INFO'.\u001b[39;00m\n\u001b[0;32m   1439\u001b[0m \n\u001b[1;32m   (...)\u001b[0m\n\u001b[0;32m   1443\u001b[0m \u001b[39mlogger.info(\"Houston, we have a %s\", \"interesting problem\", exc_info=1)\u001b[39;00m\n\u001b[0;32m   1444\u001b[0m \u001b[39m\"\"\"\u001b[39;00m\n\u001b[0;32m   1445\u001b[0m \u001b[39mif\u001b[39;00m \u001b[39mself\u001b[39m\u001b[39m.\u001b[39misEnabledFor(INFO):\n\u001b[1;32m-> 1446\u001b[0m     \u001b[39mself\u001b[39m\u001b[39m.\u001b[39m_log(INFO, msg, args, \u001b[39m*\u001b[39m\u001b[39m*\u001b[39mkwargs)\n",
      "File \u001b[1;32mc:\\Users\\lopes\\anaconda3\\envs\\butn_DW\\lib\\logging\\__init__.py:1589\u001b[0m, in \u001b[0;36mLogger._log\u001b[1;34m(self, level, msg, args, exc_info, extra, stack_info, stacklevel)\u001b[0m\n\u001b[0;32m   1586\u001b[0m         exc_info \u001b[39m=\u001b[39m sys\u001b[39m.\u001b[39mexc_info()\n\u001b[0;32m   1587\u001b[0m record \u001b[39m=\u001b[39m \u001b[39mself\u001b[39m\u001b[39m.\u001b[39mmakeRecord(\u001b[39mself\u001b[39m\u001b[39m.\u001b[39mname, level, fn, lno, msg, args,\n\u001b[0;32m   1588\u001b[0m                          exc_info, func, extra, sinfo)\n\u001b[1;32m-> 1589\u001b[0m \u001b[39mself\u001b[39;49m\u001b[39m.\u001b[39;49mhandle(record)\n",
      "File \u001b[1;32mc:\\Users\\lopes\\anaconda3\\envs\\butn_DW\\lib\\logging\\__init__.py:1599\u001b[0m, in \u001b[0;36mLogger.handle\u001b[1;34m(self, record)\u001b[0m\n\u001b[0;32m   1592\u001b[0m \u001b[39m\"\"\"\u001b[39;00m\n\u001b[0;32m   1593\u001b[0m \u001b[39mCall the handlers for the specified record.\u001b[39;00m\n\u001b[0;32m   1594\u001b[0m \n\u001b[0;32m   1595\u001b[0m \u001b[39mThis method is used for unpickled records received from a socket, as\u001b[39;00m\n\u001b[0;32m   1596\u001b[0m \u001b[39mwell as those created locally. Logger-level filtering is applied.\u001b[39;00m\n\u001b[0;32m   1597\u001b[0m \u001b[39m\"\"\"\u001b[39;00m\n\u001b[0;32m   1598\u001b[0m \u001b[39mif\u001b[39;00m (\u001b[39mnot\u001b[39;00m \u001b[39mself\u001b[39m\u001b[39m.\u001b[39mdisabled) \u001b[39mand\u001b[39;00m \u001b[39mself\u001b[39m\u001b[39m.\u001b[39mfilter(record):\n\u001b[1;32m-> 1599\u001b[0m     \u001b[39mself\u001b[39;49m\u001b[39m.\u001b[39;49mcallHandlers(record)\n",
      "File \u001b[1;32mc:\\Users\\lopes\\anaconda3\\envs\\butn_DW\\lib\\logging\\__init__.py:1661\u001b[0m, in \u001b[0;36mLogger.callHandlers\u001b[1;34m(self, record)\u001b[0m\n\u001b[0;32m   1659\u001b[0m     found \u001b[39m=\u001b[39m found \u001b[39m+\u001b[39m \u001b[39m1\u001b[39m\n\u001b[0;32m   1660\u001b[0m     \u001b[39mif\u001b[39;00m record\u001b[39m.\u001b[39mlevelno \u001b[39m>\u001b[39m\u001b[39m=\u001b[39m hdlr\u001b[39m.\u001b[39mlevel:\n\u001b[1;32m-> 1661\u001b[0m         hdlr\u001b[39m.\u001b[39;49mhandle(record)\n\u001b[0;32m   1662\u001b[0m \u001b[39mif\u001b[39;00m \u001b[39mnot\u001b[39;00m c\u001b[39m.\u001b[39mpropagate:\n\u001b[0;32m   1663\u001b[0m     c \u001b[39m=\u001b[39m \u001b[39mNone\u001b[39;00m    \u001b[39m#break out\u001b[39;00m\n",
      "File \u001b[1;32mc:\\Users\\lopes\\anaconda3\\envs\\butn_DW\\lib\\logging\\__init__.py:952\u001b[0m, in \u001b[0;36mHandler.handle\u001b[1;34m(self, record)\u001b[0m\n\u001b[0;32m    950\u001b[0m \u001b[39mself\u001b[39m\u001b[39m.\u001b[39macquire()\n\u001b[0;32m    951\u001b[0m \u001b[39mtry\u001b[39;00m:\n\u001b[1;32m--> 952\u001b[0m     \u001b[39mself\u001b[39;49m\u001b[39m.\u001b[39;49memit(record)\n\u001b[0;32m    953\u001b[0m \u001b[39mfinally\u001b[39;00m:\n\u001b[0;32m    954\u001b[0m     \u001b[39mself\u001b[39m\u001b[39m.\u001b[39mrelease()\n",
      "File \u001b[1;32mc:\\Users\\lopes\\anaconda3\\envs\\butn_DW\\lib\\site-packages\\splunk_hec_handler\\__init__.py:199\u001b[0m, in \u001b[0;36mSplunkHecHandler.emit\u001b[1;34m(self, record)\u001b[0m\n\u001b[0;32m    196\u001b[0m \u001b[39mexcept\u001b[39;00m requests\u001b[39m.\u001b[39mexceptions\u001b[39m.\u001b[39mHTTPError \u001b[39mas\u001b[39;00m err:\n\u001b[0;32m    197\u001b[0m     logging\u001b[39m.\u001b[39mdebug(\u001b[39m\"\u001b[39m\u001b[39mFailed to emit record to Splunk server (\u001b[39m\u001b[39m%s\u001b[39;00m\u001b[39m:\u001b[39m\u001b[39m%s\u001b[39;00m\u001b[39m).  Exception raised: \u001b[39m\u001b[39m%s\u001b[39;00m\u001b[39m\"\u001b[39m\n\u001b[0;32m    198\u001b[0m                   \u001b[39m%\u001b[39m (\u001b[39mself\u001b[39m\u001b[39m.\u001b[39mhost, \u001b[39mself\u001b[39m\u001b[39m.\u001b[39mport, err))\n\u001b[1;32m--> 199\u001b[0m     \u001b[39mraise\u001b[39;00m err\n",
      "File \u001b[1;32mc:\\Users\\lopes\\anaconda3\\envs\\butn_DW\\lib\\site-packages\\splunk_hec_handler\\__init__.py:195\u001b[0m, in \u001b[0;36mSplunkHecHandler.emit\u001b[1;34m(self, record)\u001b[0m\n\u001b[0;32m    192\u001b[0m \u001b[39mtry\u001b[39;00m:\n\u001b[0;32m    193\u001b[0m     req \u001b[39m=\u001b[39m \u001b[39mself\u001b[39m\u001b[39m.\u001b[39mr\u001b[39m.\u001b[39mpost(\u001b[39mself\u001b[39m\u001b[39m.\u001b[39murl, data\u001b[39m=\u001b[39mdata, timeout\u001b[39m=\u001b[39m\u001b[39mself\u001b[39m\u001b[39m.\u001b[39mTIMEOUT, headers\u001b[39m=\u001b[39m{\u001b[39m'\u001b[39m\u001b[39mConnection\u001b[39m\u001b[39m'\u001b[39m: \u001b[39m'\u001b[39m\u001b[39mclose\u001b[39m\u001b[39m'\u001b[39m})\n\u001b[1;32m--> 195\u001b[0m     req\u001b[39m.\u001b[39;49mraise_for_status()\n\u001b[0;32m    196\u001b[0m \u001b[39mexcept\u001b[39;00m requests\u001b[39m.\u001b[39mexceptions\u001b[39m.\u001b[39mHTTPError \u001b[39mas\u001b[39;00m err:\n\u001b[0;32m    197\u001b[0m     logging\u001b[39m.\u001b[39mdebug(\u001b[39m\"\u001b[39m\u001b[39mFailed to emit record to Splunk server (\u001b[39m\u001b[39m%s\u001b[39;00m\u001b[39m:\u001b[39m\u001b[39m%s\u001b[39;00m\u001b[39m).  Exception raised: \u001b[39m\u001b[39m%s\u001b[39;00m\u001b[39m\"\u001b[39m\n\u001b[0;32m    198\u001b[0m                   \u001b[39m%\u001b[39m (\u001b[39mself\u001b[39m\u001b[39m.\u001b[39mhost, \u001b[39mself\u001b[39m\u001b[39m.\u001b[39mport, err))\n",
      "File \u001b[1;32mc:\\Users\\lopes\\anaconda3\\envs\\butn_DW\\lib\\site-packages\\requests\\models.py:1021\u001b[0m, in \u001b[0;36mResponse.raise_for_status\u001b[1;34m(self)\u001b[0m\n\u001b[0;32m   1016\u001b[0m     http_error_msg \u001b[39m=\u001b[39m (\n\u001b[0;32m   1017\u001b[0m         \u001b[39mf\u001b[39m\u001b[39m\"\u001b[39m\u001b[39m{\u001b[39;00m\u001b[39mself\u001b[39m\u001b[39m.\u001b[39mstatus_code\u001b[39m}\u001b[39;00m\u001b[39m Server Error: \u001b[39m\u001b[39m{\u001b[39;00mreason\u001b[39m}\u001b[39;00m\u001b[39m for url: \u001b[39m\u001b[39m{\u001b[39;00m\u001b[39mself\u001b[39m\u001b[39m.\u001b[39murl\u001b[39m}\u001b[39;00m\u001b[39m\"\u001b[39m\n\u001b[0;32m   1018\u001b[0m     )\n\u001b[0;32m   1020\u001b[0m \u001b[39mif\u001b[39;00m http_error_msg:\n\u001b[1;32m-> 1021\u001b[0m     \u001b[39mraise\u001b[39;00m HTTPError(http_error_msg, response\u001b[39m=\u001b[39m\u001b[39mself\u001b[39m)\n",
      "\u001b[1;31mHTTPError\u001b[0m: 400 Client Error: Bad Request for url: https://prd-p-z3lcn.splunkcloud.com:8088/services/collector/event"
     ]
    }
   ],
   "source": [
    "import logging\n",
    "from splunk_hec_handler import SplunkHecHandler\n",
    "\n",
    "logger = logging.getLogger('SplunkHecHandlerExample')\n",
    "logger.setLevel(logging.DEBUG)\n",
    "\n",
    "stream_handler = logging.StreamHandler()\n",
    "stream_handler.level = logging.DEBUG\n",
    "logger.addHandler(stream_handler)\n",
    "\n",
    "token = \"bb2a82c8-5edf-46ef-8771-f173ab2ad94a\"\n",
    "splunk_handler = SplunkHecHandler('prd-p-z3lcn.splunkcloud.com',\n",
    "                                 token, index=\"tests\",\n",
    "                                 port=8088, proto='https', ssl_verify=False,\n",
    "                                 source=\"evtx2json\", sourcetype='xxxxxxxx_json')\n",
    "logger.addHandler(splunk_handler)\n",
    "\n",
    "\n",
    "dict_obj = {'fields': {'color': 'yellow', 'api_endpoint': '/results', 'host': 'app01', 'index':'hec'},\n",
    "            'user': 'foobar', 'app': 'my demo', 'severity': 'low', 'error codes': [1, 23, 34, 456]}\n",
    "logger.info(\"Hello World\")\n",
    "logger.info(dict_obj)\n",
    "\n",
    "log_summary_evt = {'fields': {'index': 'adhoc', 'sourcetype': '_json', 'source': 'adv_example'}, 'exit code': 0, 'events logged': 100}\n",
    "logger.debug(log_summary_evt)"
   ]
  },
  {
   "cell_type": "code",
   "execution_count": null,
   "metadata": {},
   "outputs": [],
   "source": []
  }
 ],
 "metadata": {
  "kernelspec": {
   "display_name": "butn_DW",
   "language": "python",
   "name": "python3"
  },
  "language_info": {
   "codemirror_mode": {
    "name": "ipython",
    "version": 3
   },
   "file_extension": ".py",
   "mimetype": "text/x-python",
   "name": "python",
   "nbconvert_exporter": "python",
   "pygments_lexer": "ipython3",
   "version": "3.9.13"
  },
  "orig_nbformat": 4
 },
 "nbformat": 4,
 "nbformat_minor": 2
}
